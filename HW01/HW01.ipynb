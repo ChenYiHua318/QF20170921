{
 "cells": [
  {
   "cell_type": "markdown",
   "metadata": {},
   "source": [
    "# HW01\n",
    "\n",
    "## 這個作業主要的目的是希望同學們了解善用模組跟套件可以很容易取得問題的快速解。"
   ]
  },
  {
   "cell_type": "markdown",
   "metadata": {},
   "source": [
    "## Q1. 請使用 python 讀入 Nasdaq 公司資訊！\n",
    "\n",
    "提示：\n",
    "1. 請先找到 Nasdaq Company List 的 .csv 檔的網址。\n",
    "2. 使用 pandas 套件的 read_csv 函式來讀入 .csv 檔。"
   ]
  },
  {
   "cell_type": "code",
   "execution_count": null,
   "metadata": {
    "collapsed": true
   },
   "outputs": [],
   "source": []
  },
  {
   "cell_type": "markdown",
   "metadata": {},
   "source": [
    "## Q2. 請使用 python 畫中山大學管理學院周邊地圖！\n",
    "\n",
    "提示：\n",
    "\n",
    "1. 使用 geocoder 套件來找出地址的 GPS 座標。\n",
    "2. 使用 folium 套件來顯示地圖。"
   ]
  },
  {
   "cell_type": "code",
   "execution_count": null,
   "metadata": {
    "collapsed": true
   },
   "outputs": [],
   "source": []
  },
  {
   "cell_type": "markdown",
   "metadata": {},
   "source": [
    "## Q3. 請使用 python 將新聞中可能的關鍵詞萃取出來！ (Bonus)\n",
    "\n",
    "提示：\n",
    "\n",
    "1. 使用老師提供的 util.py 來擷取鉅亨網上特定新聞的內容。\n",
    "2. 使用 jieba 套件來擷取關鍵詞。"
   ]
  },
  {
   "cell_type": "code",
   "execution_count": 1,
   "metadata": {
    "collapsed": true
   },
   "outputs": [],
   "source": [
    "import util"
   ]
  },
  {
   "cell_type": "code",
   "execution_count": 2,
   "metadata": {
    "collapsed": true
   },
   "outputs": [],
   "source": [
    "news_text = util.get_news_article('https://news.cnyes.com/news/id/3956525')"
   ]
  },
  {
   "cell_type": "code",
   "execution_count": 3,
   "metadata": {},
   "outputs": [
    {
     "data": {
      "text/plain": [
       "'根據 IHS Markit 研調數據顯示，今年第 3 季全球智慧型手機出貨 3.66 億台，年增 6.1%，蘋果新機 iPhone8 及 iPhoneX 上市影響逐步顯現，iPhone 出貨年增 2.6%，前五大品牌廠排名，三星仍然居冠，蘋果居次，其餘則是中國品牌華為、OPPO、小米等，第 3 季出貨皆較去年同期成長。\\nIHS Markit 統計，小米重新擠進全球第五，第 3 季出貨較去年同期增加\\xa0111.2%，出貨量\\xa02760 萬支，略微領先 Vivo，重回前五大，Vivo 則以 2540 萬支，居全球第六，但出貨仍較去年同期成長\\xa020.4%。\\n三星第 3 季智慧手機出貨 8340 萬支，年增 7.7%，全球市占率增至 23%，年增 1 個百分點，由於中國市場逐步被本土品牌占领，三星在中國市場拓展略顯乏力。\\n蘋果第 3 季度智慧手機出貨 4670 萬支，年增 2.6%；在中國區整體收入年增 12%，挽回近期中國市場衰退窘境，在美國則是年增 14%，在歐洲年增 20%，亞洲地區年增 5 %，日本的銷售收入則年減 11%；由於 iPhone 8 在第 3 季度末正式發售，iPhone X 在上周開始銷售，較明顯的出貨貢獻時間將在第 4 季。\\n華為持續穩定守住全球第三，第 3 季智慧手機出貨 3910 萬支，年增 16.4%，全球市占率增至 11%，受惠在本土市場具備品牌優勢，出貨持續领先。\\nOPPO 和 VIVO\\xa0在第 3 季都穩定成長，OPPO 智慧手機出貨 3160 萬支，年增 17.9%；Vivo 出貨 2540 萬支，年增 20.4%；兩個品牌全球市占率分別是 9% 及 % 來看，皆較去年略微成長。\\n'"
      ]
     },
     "execution_count": 3,
     "metadata": {},
     "output_type": "execute_result"
    }
   ],
   "source": [
    "news_text"
   ]
  }
 ],
 "metadata": {
  "kernelspec": {
   "display_name": "Python 3",
   "language": "python",
   "name": "python3"
  },
  "language_info": {
   "codemirror_mode": {
    "name": "ipython",
    "version": 3
   },
   "file_extension": ".py",
   "mimetype": "text/x-python",
   "name": "python",
   "nbconvert_exporter": "python",
   "pygments_lexer": "ipython3",
   "version": "3.6.2"
  }
 },
 "nbformat": 4,
 "nbformat_minor": 2
}
